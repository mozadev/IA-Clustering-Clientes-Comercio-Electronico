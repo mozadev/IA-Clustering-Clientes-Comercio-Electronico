{
 "cells": [
  {
   "cell_type": "markdown",
   "metadata": {},
   "source": [
    "IMPORTAR LIBRERIAS"
   ]
  },
  {
   "cell_type": "code",
   "execution_count": 2,
   "metadata": {},
   "outputs": [],
   "source": [
    "import numpy as np\n",
    "import pandas as pd \n",
    "import seaborn as sns\n",
    "import matplotlib.pyplot as plt\n",
    "\n",
    "import plotly.graph_objects as go\n",
    "from sklearn.metrics import silhouette_score\n",
    "from yellowbrick.cluster import KElbowVisualizer\n",
    "\n",
    "from sklearn.cluster import KMeans\n",
    "from sklearn.preprocessing import StandardScaler\n",
    "\n",
    "import warnings\n",
    "warnings.filterwarnings('ignore')"
   ]
  },
  {
   "cell_type": "markdown",
   "metadata": {},
   "source": [
    "# Descripción de las Columnas del Archivo de Datos Transaccionales\n",
    "\n",
    "El archivo contiene datos transaccionales con las siguientes columnas:\n",
    "\n",
    "- **ID de la orden (`order_id`)**: Identificador único para cada transacción.\n",
    "- **ID del usuario (`user_id`)**: Identifica al cliente que realizó la compra.\n",
    "- **Número de orden (`order_number`)**: Indica el número de la orden en el historial del cliente.\n",
    "- **Día de la semana (`order_dow`)**: Día de la semana en que se realizó la orden.\n",
    "- **Hora del día (`order_hour_of_day`)**: Hora exacta de la transacción.\n",
    "- **Días desde la última orden (`days_since_prior_order`)**: Tiempo desde la última compra realizada por el cliente.\n",
    "- **ID y Nombre del producto (`product_id` y `product_name`)**: Identificadores y nombres de los productos comprados.\n",
    "- **Orden en el carrito (`add_to_cart_order`)**: Secuencia en la que los productos fueron añadidos al carrito.\n",
    "- **Producto reordenado (`reordered`)**: Indica si el producto fue comprado anteriormente (1) o no (0).\n",
    "- **ID y Nombre del Departamento (`department_id` y `department`)**: Identificador y categoría general a la que pertenece cada producto."
   ]
  },
  {
   "cell_type": "markdown",
   "metadata": {},
   "source": [
    "### Carga de Datos"
   ]
  },
  {
   "cell_type": "code",
   "execution_count": 1,
   "metadata": {},
   "outputs": [
    {
     "ename": "NameError",
     "evalue": "name 'pd' is not defined",
     "output_type": "error",
     "traceback": [
      "\u001b[1;31m---------------------------------------------------------------------------\u001b[0m",
      "\u001b[1;31mNameError\u001b[0m                                 Traceback (most recent call last)",
      "Cell \u001b[1;32mIn[1], line 1\u001b[0m\n\u001b[1;32m----> 1\u001b[0m df \u001b[38;5;241m=\u001b[39m \u001b[43mpd\u001b[49m\u001b[38;5;241m.\u001b[39mread_csv(\u001b[38;5;124m'\u001b[39m\u001b[38;5;124mComercio Electrónico Evaluación.csv\u001b[39m\u001b[38;5;124m'\u001b[39m)\n\u001b[0;32m      2\u001b[0m df\u001b[38;5;241m.\u001b[39mhead(\u001b[38;5;241m10\u001b[39m)\n",
      "\u001b[1;31mNameError\u001b[0m: name 'pd' is not defined"
     ]
    }
   ],
   "source": [
    "df = pd.read_csv('Comercio Electrónico Evaluación.csv')\n",
    "df.head(10)"
   ]
  }
 ],
 "metadata": {
  "kernelspec": {
   "display_name": "venv",
   "language": "python",
   "name": "python3"
  },
  "language_info": {
   "codemirror_mode": {
    "name": "ipython",
    "version": 3
   },
   "file_extension": ".py",
   "mimetype": "text/x-python",
   "name": "python",
   "nbconvert_exporter": "python",
   "pygments_lexer": "ipython3",
   "version": "3.10.11"
  }
 },
 "nbformat": 4,
 "nbformat_minor": 2
}
